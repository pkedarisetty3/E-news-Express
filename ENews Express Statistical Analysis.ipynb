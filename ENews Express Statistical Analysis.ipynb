{
 "cells": [
  {
   "cell_type": "markdown",
   "id": "6yDxo9u0d9Na",
   "metadata": {
    "id": "6yDxo9u0d9Na"
   },
   "source": [
    "# Project Business Statistics: E-news Express"
   ]
  },
  {
   "cell_type": "markdown",
   "id": "SrLd-ICEmPSD",
   "metadata": {
    "id": "SrLd-ICEmPSD"
   },
   "source": [
    "## Define Problem Statement and Objectives"
   ]
  },
  {
   "cell_type": "markdown",
   "id": "b6c4a028",
   "metadata": {},
   "source": [
    "E-news Express (an online news company) wants to expand its business by acquiring new subscribers. The company wants to analyze every user's interest and determine if a new feature will be effective or not. The design team has the currently live page (which we will refer to as the old landing page) and also set up another page with the new feature (which we will refer to as the new landing page).\n",
    "I will conduct a test, with a couple users on the old landing page and a couple users on the new landing page. I will collect this data and perform statistical analysis below to determine if the new feature effectively acquires new subscribers."
   ]
  },
  {
   "cell_type": "markdown",
   "id": "a6a3d218",
   "metadata": {
    "id": "a6a3d218"
   },
   "source": [
    "## Import all the necessary libraries"
   ]
  },
  {
   "cell_type": "code",
   "execution_count": 1,
   "id": "658c5dec",
   "metadata": {
    "id": "658c5dec"
   },
   "outputs": [],
   "source": [
    "import numpy as np\n",
    "import pandas as pd\n",
    "from matplotlib import pyplot as plt\n",
    "import seaborn as sns"
   ]
  },
  {
   "cell_type": "markdown",
   "id": "6970dd99",
   "metadata": {
    "id": "6970dd99"
   },
   "source": [
    "### Reading the Data into a DataFrame"
   ]
  },
  {
   "cell_type": "code",
   "execution_count": 2,
   "id": "d3b95640",
   "metadata": {
    "id": "d3b95640"
   },
   "outputs": [],
   "source": [
    "# write the code for reading the dataset abtest.csv\n",
    "data = pd.read_csv(\"abtest.csv\")\n"
   ]
  },
  {
   "cell_type": "markdown",
   "id": "a4e471fd",
   "metadata": {
    "id": "a4e471fd"
   },
   "source": [
    "### Data Overview"
   ]
  },
  {
   "cell_type": "code",
   "execution_count": 3,
   "id": "e1ad11d4",
   "metadata": {
    "id": "e1ad11d4",
    "scrolled": true
   },
   "outputs": [
    {
     "data": {
      "text/html": [
       "<div>\n",
       "<style scoped>\n",
       "    .dataframe tbody tr th:only-of-type {\n",
       "        vertical-align: middle;\n",
       "    }\n",
       "\n",
       "    .dataframe tbody tr th {\n",
       "        vertical-align: top;\n",
       "    }\n",
       "\n",
       "    .dataframe thead th {\n",
       "        text-align: right;\n",
       "    }\n",
       "</style>\n",
       "<table border=\"1\" class=\"dataframe\">\n",
       "  <thead>\n",
       "    <tr style=\"text-align: right;\">\n",
       "      <th></th>\n",
       "      <th>user_id</th>\n",
       "      <th>group</th>\n",
       "      <th>landing_page</th>\n",
       "      <th>time_spent_on_the_page</th>\n",
       "      <th>converted</th>\n",
       "      <th>language_preferred</th>\n",
       "    </tr>\n",
       "  </thead>\n",
       "  <tbody>\n",
       "    <tr>\n",
       "      <th>0</th>\n",
       "      <td>546592</td>\n",
       "      <td>control</td>\n",
       "      <td>old</td>\n",
       "      <td>3.48</td>\n",
       "      <td>no</td>\n",
       "      <td>Spanish</td>\n",
       "    </tr>\n",
       "    <tr>\n",
       "      <th>1</th>\n",
       "      <td>546468</td>\n",
       "      <td>treatment</td>\n",
       "      <td>new</td>\n",
       "      <td>7.13</td>\n",
       "      <td>yes</td>\n",
       "      <td>English</td>\n",
       "    </tr>\n",
       "    <tr>\n",
       "      <th>2</th>\n",
       "      <td>546462</td>\n",
       "      <td>treatment</td>\n",
       "      <td>new</td>\n",
       "      <td>4.40</td>\n",
       "      <td>no</td>\n",
       "      <td>Spanish</td>\n",
       "    </tr>\n",
       "    <tr>\n",
       "      <th>3</th>\n",
       "      <td>546567</td>\n",
       "      <td>control</td>\n",
       "      <td>old</td>\n",
       "      <td>3.02</td>\n",
       "      <td>no</td>\n",
       "      <td>French</td>\n",
       "    </tr>\n",
       "    <tr>\n",
       "      <th>4</th>\n",
       "      <td>546459</td>\n",
       "      <td>treatment</td>\n",
       "      <td>new</td>\n",
       "      <td>4.75</td>\n",
       "      <td>yes</td>\n",
       "      <td>Spanish</td>\n",
       "    </tr>\n",
       "  </tbody>\n",
       "</table>\n",
       "</div>"
      ],
      "text/plain": [
       "   user_id      group landing_page  time_spent_on_the_page converted  \\\n",
       "0   546592    control          old                    3.48        no   \n",
       "1   546468  treatment          new                    7.13       yes   \n",
       "2   546462  treatment          new                    4.40        no   \n",
       "3   546567    control          old                    3.02        no   \n",
       "4   546459  treatment          new                    4.75       yes   \n",
       "\n",
       "  language_preferred  \n",
       "0            Spanish  \n",
       "1            English  \n",
       "2            Spanish  \n",
       "3             French  \n",
       "4            Spanish  "
      ]
     },
     "execution_count": 3,
     "metadata": {},
     "output_type": "execute_result"
    }
   ],
   "source": [
    "data.head()"
   ]
  },
  {
   "cell_type": "code",
   "execution_count": 4,
   "id": "4531f676",
   "metadata": {},
   "outputs": [
    {
     "data": {
      "text/plain": [
       "(100, 6)"
      ]
     },
     "execution_count": 4,
     "metadata": {},
     "output_type": "execute_result"
    }
   ],
   "source": [
    "data.shape"
   ]
  },
  {
   "cell_type": "code",
   "execution_count": 5,
   "id": "602facaf",
   "metadata": {
    "scrolled": true
   },
   "outputs": [
    {
     "data": {
      "text/html": [
       "<div>\n",
       "<style scoped>\n",
       "    .dataframe tbody tr th:only-of-type {\n",
       "        vertical-align: middle;\n",
       "    }\n",
       "\n",
       "    .dataframe tbody tr th {\n",
       "        vertical-align: top;\n",
       "    }\n",
       "\n",
       "    .dataframe thead th {\n",
       "        text-align: right;\n",
       "    }\n",
       "</style>\n",
       "<table border=\"1\" class=\"dataframe\">\n",
       "  <thead>\n",
       "    <tr style=\"text-align: right;\">\n",
       "      <th></th>\n",
       "      <th>user_id</th>\n",
       "      <th>time_spent_on_the_page</th>\n",
       "    </tr>\n",
       "  </thead>\n",
       "  <tbody>\n",
       "    <tr>\n",
       "      <th>count</th>\n",
       "      <td>100.000000</td>\n",
       "      <td>100.000000</td>\n",
       "    </tr>\n",
       "    <tr>\n",
       "      <th>mean</th>\n",
       "      <td>546517.000000</td>\n",
       "      <td>5.377800</td>\n",
       "    </tr>\n",
       "    <tr>\n",
       "      <th>std</th>\n",
       "      <td>52.295779</td>\n",
       "      <td>2.378166</td>\n",
       "    </tr>\n",
       "    <tr>\n",
       "      <th>min</th>\n",
       "      <td>546443.000000</td>\n",
       "      <td>0.190000</td>\n",
       "    </tr>\n",
       "    <tr>\n",
       "      <th>25%</th>\n",
       "      <td>546467.750000</td>\n",
       "      <td>3.880000</td>\n",
       "    </tr>\n",
       "    <tr>\n",
       "      <th>50%</th>\n",
       "      <td>546492.500000</td>\n",
       "      <td>5.415000</td>\n",
       "    </tr>\n",
       "    <tr>\n",
       "      <th>75%</th>\n",
       "      <td>546567.250000</td>\n",
       "      <td>7.022500</td>\n",
       "    </tr>\n",
       "    <tr>\n",
       "      <th>max</th>\n",
       "      <td>546592.000000</td>\n",
       "      <td>10.710000</td>\n",
       "    </tr>\n",
       "  </tbody>\n",
       "</table>\n",
       "</div>"
      ],
      "text/plain": [
       "             user_id  time_spent_on_the_page\n",
       "count     100.000000              100.000000\n",
       "mean   546517.000000                5.377800\n",
       "std        52.295779                2.378166\n",
       "min    546443.000000                0.190000\n",
       "25%    546467.750000                3.880000\n",
       "50%    546492.500000                5.415000\n",
       "75%    546567.250000                7.022500\n",
       "max    546592.000000               10.710000"
      ]
     },
     "execution_count": 5,
     "metadata": {},
     "output_type": "execute_result"
    }
   ],
   "source": [
    "data.describe()"
   ]
  },
  {
   "cell_type": "markdown",
   "id": "0f225fd7",
   "metadata": {},
   "source": [
    "I will ignore the user_id analysis above because the numerical value of the user_id is irrelevant to the data analysis."
   ]
  },
  {
   "cell_type": "code",
   "execution_count": 6,
   "id": "aa2e8915",
   "metadata": {},
   "outputs": [
    {
     "data": {
      "text/plain": [
       "user_id                     int64\n",
       "group                      object\n",
       "landing_page               object\n",
       "time_spent_on_the_page    float64\n",
       "converted                  object\n",
       "language_preferred         object\n",
       "dtype: object"
      ]
     },
     "execution_count": 6,
     "metadata": {},
     "output_type": "execute_result"
    }
   ],
   "source": [
    "data.dtypes"
   ]
  },
  {
   "cell_type": "markdown",
   "id": "a8bd4165",
   "metadata": {},
   "source": [
    "I observe that the data basically has one row per user, with the following information:\n",
    "- Is the user in the control group or the treatment group?\n",
    "- Did the user see the old landing page or the new landing page?\n",
    "- How long did the user spend on the page?\n",
    "- Did the user convert? (a.k.a. did the user make an account?)\n",
    "- What is the user's preferred language?\n",
    "\n",
    "In addition, I observe that most variables are categorical, with only one variable that is numerical. This means that my exploratory data analysis will not involve numerical vs. numerical methods like covariance and correlation calculations."
   ]
  },
  {
   "cell_type": "code",
   "execution_count": 7,
   "id": "c5473823",
   "metadata": {},
   "outputs": [
    {
     "data": {
      "text/html": [
       "<div>\n",
       "<style scoped>\n",
       "    .dataframe tbody tr th:only-of-type {\n",
       "        vertical-align: middle;\n",
       "    }\n",
       "\n",
       "    .dataframe tbody tr th {\n",
       "        vertical-align: top;\n",
       "    }\n",
       "\n",
       "    .dataframe thead th {\n",
       "        text-align: right;\n",
       "    }\n",
       "</style>\n",
       "<table border=\"1\" class=\"dataframe\">\n",
       "  <thead>\n",
       "    <tr style=\"text-align: right;\">\n",
       "      <th></th>\n",
       "      <th>user_id</th>\n",
       "      <th>group</th>\n",
       "      <th>landing_page</th>\n",
       "      <th>time_spent_on_the_page</th>\n",
       "      <th>converted</th>\n",
       "      <th>language_preferred</th>\n",
       "    </tr>\n",
       "  </thead>\n",
       "  <tbody>\n",
       "    <tr>\n",
       "      <th>0</th>\n",
       "      <td>546592</td>\n",
       "      <td>control</td>\n",
       "      <td>old</td>\n",
       "      <td>3.48</td>\n",
       "      <td>no</td>\n",
       "      <td>Spanish</td>\n",
       "    </tr>\n",
       "    <tr>\n",
       "      <th>1</th>\n",
       "      <td>546468</td>\n",
       "      <td>treatment</td>\n",
       "      <td>new</td>\n",
       "      <td>7.13</td>\n",
       "      <td>yes</td>\n",
       "      <td>English</td>\n",
       "    </tr>\n",
       "    <tr>\n",
       "      <th>2</th>\n",
       "      <td>546462</td>\n",
       "      <td>treatment</td>\n",
       "      <td>new</td>\n",
       "      <td>4.40</td>\n",
       "      <td>no</td>\n",
       "      <td>Spanish</td>\n",
       "    </tr>\n",
       "    <tr>\n",
       "      <th>3</th>\n",
       "      <td>546567</td>\n",
       "      <td>control</td>\n",
       "      <td>old</td>\n",
       "      <td>3.02</td>\n",
       "      <td>no</td>\n",
       "      <td>French</td>\n",
       "    </tr>\n",
       "    <tr>\n",
       "      <th>4</th>\n",
       "      <td>546459</td>\n",
       "      <td>treatment</td>\n",
       "      <td>new</td>\n",
       "      <td>4.75</td>\n",
       "      <td>yes</td>\n",
       "      <td>Spanish</td>\n",
       "    </tr>\n",
       "    <tr>\n",
       "      <th>...</th>\n",
       "      <td>...</td>\n",
       "      <td>...</td>\n",
       "      <td>...</td>\n",
       "      <td>...</td>\n",
       "      <td>...</td>\n",
       "      <td>...</td>\n",
       "    </tr>\n",
       "    <tr>\n",
       "      <th>95</th>\n",
       "      <td>546446</td>\n",
       "      <td>treatment</td>\n",
       "      <td>new</td>\n",
       "      <td>5.15</td>\n",
       "      <td>no</td>\n",
       "      <td>Spanish</td>\n",
       "    </tr>\n",
       "    <tr>\n",
       "      <th>96</th>\n",
       "      <td>546544</td>\n",
       "      <td>control</td>\n",
       "      <td>old</td>\n",
       "      <td>6.52</td>\n",
       "      <td>yes</td>\n",
       "      <td>English</td>\n",
       "    </tr>\n",
       "    <tr>\n",
       "      <th>97</th>\n",
       "      <td>546472</td>\n",
       "      <td>treatment</td>\n",
       "      <td>new</td>\n",
       "      <td>7.07</td>\n",
       "      <td>yes</td>\n",
       "      <td>Spanish</td>\n",
       "    </tr>\n",
       "    <tr>\n",
       "      <th>98</th>\n",
       "      <td>546481</td>\n",
       "      <td>treatment</td>\n",
       "      <td>new</td>\n",
       "      <td>6.20</td>\n",
       "      <td>yes</td>\n",
       "      <td>Spanish</td>\n",
       "    </tr>\n",
       "    <tr>\n",
       "      <th>99</th>\n",
       "      <td>546483</td>\n",
       "      <td>treatment</td>\n",
       "      <td>new</td>\n",
       "      <td>5.86</td>\n",
       "      <td>yes</td>\n",
       "      <td>English</td>\n",
       "    </tr>\n",
       "  </tbody>\n",
       "</table>\n",
       "<p>100 rows × 6 columns</p>\n",
       "</div>"
      ],
      "text/plain": [
       "    user_id      group landing_page  time_spent_on_the_page converted  \\\n",
       "0    546592    control          old                    3.48        no   \n",
       "1    546468  treatment          new                    7.13       yes   \n",
       "2    546462  treatment          new                    4.40        no   \n",
       "3    546567    control          old                    3.02        no   \n",
       "4    546459  treatment          new                    4.75       yes   \n",
       "..      ...        ...          ...                     ...       ...   \n",
       "95   546446  treatment          new                    5.15        no   \n",
       "96   546544    control          old                    6.52       yes   \n",
       "97   546472  treatment          new                    7.07       yes   \n",
       "98   546481  treatment          new                    6.20       yes   \n",
       "99   546483  treatment          new                    5.86       yes   \n",
       "\n",
       "   language_preferred  \n",
       "0             Spanish  \n",
       "1             English  \n",
       "2             Spanish  \n",
       "3              French  \n",
       "4             Spanish  \n",
       "..                ...  \n",
       "95            Spanish  \n",
       "96            English  \n",
       "97            Spanish  \n",
       "98            Spanish  \n",
       "99            English  \n",
       "\n",
       "[100 rows x 6 columns]"
      ]
     },
     "execution_count": 7,
     "metadata": {},
     "output_type": "execute_result"
    }
   ],
   "source": [
    "# remove NA values\n",
    "data.dropna(subset=[\"converted\"],axis=0,inplace=True)\n",
    "data.reset_index(drop=True)"
   ]
  },
  {
   "cell_type": "code",
   "execution_count": 8,
   "id": "8d93855c",
   "metadata": {
    "scrolled": true
   },
   "outputs": [
    {
     "data": {
      "text/plain": [
       "(100, 6)"
      ]
     },
     "execution_count": 8,
     "metadata": {},
     "output_type": "execute_result"
    }
   ],
   "source": [
    "data.shape"
   ]
  },
  {
   "cell_type": "markdown",
   "id": "dc3104b1",
   "metadata": {},
   "source": [
    "It looks like there are no NaNs in the converted column. In the grand scheme of things this should be all that matters because this is the ultimate outcome of the user that we care about.\n",
    "\n",
    "But for giggles, let's see if there are any NaN values anywhere"
   ]
  },
  {
   "cell_type": "code",
   "execution_count": 9,
   "id": "39523912",
   "metadata": {
    "scrolled": true
   },
   "outputs": [
    {
     "name": "stdout",
     "output_type": "stream",
     "text": [
      "<class 'pandas.core.frame.DataFrame'>\n",
      "Int64Index: 100 entries, 0 to 99\n",
      "Data columns (total 6 columns):\n",
      " #   Column                  Non-Null Count  Dtype  \n",
      "---  ------                  --------------  -----  \n",
      " 0   user_id                 100 non-null    int64  \n",
      " 1   group                   100 non-null    object \n",
      " 2   landing_page            100 non-null    object \n",
      " 3   time_spent_on_the_page  100 non-null    float64\n",
      " 4   converted               100 non-null    object \n",
      " 5   language_preferred      100 non-null    object \n",
      "dtypes: float64(1), int64(1), object(4)\n",
      "memory usage: 5.5+ KB\n"
     ]
    }
   ],
   "source": [
    "data.info()"
   ]
  },
  {
   "cell_type": "markdown",
   "id": "11736cd6",
   "metadata": {},
   "source": [
    "The above proved that we have a clean data set, with all the fields populated with a value."
   ]
  },
  {
   "cell_type": "markdown",
   "id": "68f3b2c9",
   "metadata": {
    "id": "68f3b2c9"
   },
   "source": [
    "### Univariate Analysis"
   ]
  },
  {
   "cell_type": "markdown",
   "id": "4b5181bc",
   "metadata": {},
   "source": [
    "The below functions will be used to aid with visualizations for the Univariate Analysis and Bivariate Analysis."
   ]
  },
  {
   "cell_type": "code",
   "execution_count": 10,
   "id": "1932d0f3",
   "metadata": {
    "id": "1932d0f3"
   },
   "outputs": [],
   "source": [
    "# function to plot a boxplot and a histogram along the same scale.\n",
    "\n",
    "\n",
    "def histogram_boxplot(data, feature, figsize=(12, 7), kde=False, bins=None):\n",
    "    \"\"\"\n",
    "    Boxplot and histogram combined\n",
    "\n",
    "    data: dataframe\n",
    "    feature: dataframe column\n",
    "    figsize: size of figure (default (12,7))\n",
    "    kde: whether to show the density curve (default False)\n",
    "    bins: number of bins for histogram (default None)\n",
    "    \"\"\"\n",
    "    f2, (ax_box2, ax_hist2) = plt.subplots(\n",
    "        nrows=2,  # Number of rows of the subplot grid= 2\n",
    "        sharex=True,  # x-axis will be shared among all subplots\n",
    "        gridspec_kw={\"height_ratios\": (0.25, 0.75)},\n",
    "        figsize=figsize,\n",
    "    )  # creating the 2 subplots\n",
    "    sns.boxplot(\n",
    "        data=data, x=feature, ax=ax_box2, showmeans=True, color=\"violet\"\n",
    "    )  # boxplot will be created and a star will indicate the mean value of the column\n",
    "    sns.histplot(\n",
    "        data=data, x=feature, kde=kde, ax=ax_hist2, bins=bins, palette=\"winter\"\n",
    "    ) if bins else sns.histplot(\n",
    "        data=data, x=feature, kde=kde, ax=ax_hist2\n",
    "    )  # For histogram\n",
    "    ax_hist2.axvline(\n",
    "        data[feature].mean(), color=\"green\", linestyle=\"--\"\n",
    "    )  # Add mean to the histogram\n",
    "    ax_hist2.axvline(\n",
    "        data[feature].median(), color=\"black\", linestyle=\"-\"\n",
    "    )  # Add median to the histogram"
   ]
  },
  {
   "cell_type": "code",
   "execution_count": 11,
   "id": "2fce6350",
   "metadata": {
    "id": "2fce6350"
   },
   "outputs": [],
   "source": [
    "# function to create labeled barplots\n",
    "\n",
    "\n",
    "def labeled_barplot(data, feature, perc=False, n=None):\n",
    "    \"\"\"\n",
    "    Barplot with percentage at the top\n",
    "\n",
    "    data: dataframe\n",
    "    feature: dataframe column\n",
    "    perc: whether to display percentages instead of count (default is False)\n",
    "    n: displays the top n category levels (default is None, i.e., display all levels)\n",
    "    \"\"\"\n",
    "\n",
    "    total = len(data[feature])  # length of the column\n",
    "    count = data[feature].nunique()\n",
    "    if n is None:\n",
    "        plt.figure(figsize=(count + 1, 5))\n",
    "    else:\n",
    "        plt.figure(figsize=(n + 1, 5))\n",
    "\n",
    "    plt.xticks(rotation=90, fontsize=15)\n",
    "    ax = sns.countplot(data=data, x=feature, palette=\"Paired\", order=data[feature].value_counts().index[:n].sort_values())\n",
    "\n",
    "    for p in ax.patches:\n",
    "        if perc == True:\n",
    "            label = \"{:.1f}%\".format(100 * p.get_height() / total)  # percentage of each class of the category\n",
    "        else:\n",
    "            label = p.get_height()  # count of each level of the category\n",
    "\n",
    "        x = p.get_x() + p.get_width() / 2  # width of the plot\n",
    "        y = p.get_height()      # height of the plot\n",
    "\n",
    "        ax.annotate(label, (x, y), ha=\"center\", va=\"center\", size=12, xytext=(0, 5), textcoords=\"offset points\")  # annotate the percentage\n",
    "\n",
    "    plt.show()  # show the plot"
   ]
  },
  {
   "cell_type": "markdown",
   "id": "c7c10949",
   "metadata": {
    "id": "e6f99481"
   },
   "source": [
    "Let's see what conclusions we can make by one variable."
   ]
  },
  {
   "cell_type": "code",
   "execution_count": 12,
   "id": "2556202a",
   "metadata": {
    "scrolled": true
   },
   "outputs": [
    {
     "data": {
      "image/png": "[encoded data removed]",
      "text/plain": [
       "<Figure size 216x360 with 1 Axes>"
      ]
     },
     "metadata": {
      "needs_background": "light"
     },
     "output_type": "display_data"
    }
   ],
   "source": [
    "labeled_barplot(data,\"group\")"
   ]
  },
  {
   "cell_type": "code",
   "execution_count": 13,
   "id": "c531626d",
   "metadata": {},
   "outputs": [
    {
     "data": {
      "image/png": "[encoded data removed]",
      "text/plain": [
       "<Figure size 216x360 with 1 Axes>"
      ]
     },
     "metadata": {
      "needs_background": "light"
     },
     "output_type": "display_data"
    }
   ],
   "source": [
    "labeled_barplot(data,\"landing_page\")"
   ]
  },
  {
   "cell_type": "code",
   "execution_count": 14,
   "id": "0b726d98",
   "metadata": {
    "scrolled": true
   },
   "outputs": [
    {
     "data": {
      "image/png": "[encoded data removed]",
      "text/plain": [
       "<Figure size 216x360 with 1 Axes>"
      ]
     },
     "metadata": {
      "needs_background": "light"
     },
     "output_type": "display_data"
    }
   ],
   "source": [
    "labeled_barplot(data,\"converted\")"
   ]
  },
  {
   "cell_type": "code",
   "execution_count": 15,
   "id": "5dba2400",
   "metadata": {
    "scrolled": true
   },
   "outputs": [
    {
     "data": {
      "image/png": "[encoded data removed]",
      "text/plain": [
       "<Figure size 288x360 with 1 Axes>"
      ]
     },
     "metadata": {
      "needs_background": "light"
     },
     "output_type": "display_data"
    }
   ],
   "source": [
    "labeled_barplot(data,\"language_preferred\")"
   ]
  },
  {
   "cell_type": "code",
   "execution_count": 16,
   "id": "a04cecfb",
   "metadata": {
    "scrolled": true
   },
   "outputs": [
    {
     "data": {
      "image/png": "[encoded data removed]",
      "text/plain": [
       "<Figure size 864x504 with 2 Axes>"
      ]
     },
     "metadata": {
      "needs_background": "light"
     },
     "output_type": "display_data"
    }
   ],
   "source": [
    "histogram_boxplot(data,\"time_spent_on_the_page\")"
   ]
  },
  {
   "cell_type": "markdown",
   "id": "8413e0b8",
   "metadata": {},
   "source": [
    "#### Univariate Analysis observations:\n",
    "- We had a good testing population. Confirmed that we have half the population in the control group and the other half in the treatment group. Also, confirmed that we have half the population in the old landing page and the other half in the new landing page.\n",
    "- We had 54% of the population that converted, and 46% did not convert. In other words, 8% more of the population converted.\n",
    "- The chosen language for the landing page by users is about evenly split amongst English, French, and Spanish.\n",
    "- The time spent on the page generally follows a normal distribution. The mean time spent is about 5.3 minutes. The interquartile range is about 3.9 to 7.0 minutes. The minimum time spent is 0.2 minutes, and the maximum time spent is 10.7 minutes."
   ]
  },
  {
   "cell_type": "markdown",
   "id": "fad2de2f",
   "metadata": {
    "id": "fad2de2f"
   },
   "source": [
    "### Bivariate Analysis"
   ]
  },
  {
   "cell_type": "markdown",
   "id": "939e46f7",
   "metadata": {
    "id": "58e9a1d0"
   },
   "source": [
    "The \"time_spent_on_the_page\" variable is the only numerical variable, so I will do numerical vs. categorial analysis with this variable vs. all the other ones."
   ]
  },
  {
   "cell_type": "code",
   "execution_count": 17,
   "id": "e0878cf8",
   "metadata": {
    "scrolled": false
   },
   "outputs": [
    {
     "data": {
      "image/png": "[encoded data removed]",
      "text/plain": [
       "<Figure size 1080x360 with 1 Axes>"
      ]
     },
     "metadata": {
      "needs_background": "light"
     },
     "output_type": "display_data"
    }
   ],
   "source": [
    "data.groupby(by=['group'])['time_spent_on_the_page'].mean().plot(x='group',y='time_spent_on_the_page', kind='bar',figsize=(15,5))\n",
    "plt.show()"
   ]
  },
  {
   "cell_type": "code",
   "execution_count": 18,
   "id": "51b3e317",
   "metadata": {
    "scrolled": true
   },
   "outputs": [
    {
     "data": {
      "image/png": "[encoded data removed]",
      "text/plain": [
       "<Figure size 1080x360 with 1 Axes>"
      ]
     },
     "metadata": {
      "needs_background": "light"
     },
     "output_type": "display_data"
    }
   ],
   "source": [
    "data.groupby(by=['landing_page'])['time_spent_on_the_page'].mean().plot(x='landing_page',y='time_spent_on_the_page', kind='bar',figsize=(15,5))\n",
    "plt.show()"
   ]
  },
  {
   "cell_type": "code",
   "execution_count": 19,
   "id": "3fb5a986",
   "metadata": {},
   "outputs": [
    {
     "data": {
      "image/png": "[encoded data removed]",
      "text/plain": [
       "<Figure size 1080x360 with 1 Axes>"
      ]
     },
     "metadata": {
      "needs_background": "light"
     },
     "output_type": "display_data"
    }
   ],
   "source": [
    "data.groupby(by=['converted'])['time_spent_on_the_page'].mean().plot(x='converted',y='time_spent_on_the_page', kind='bar',figsize=(15,5))\n",
    "plt.show()"
   ]
  },
  {
   "cell_type": "code",
   "execution_count": 20,
   "id": "bf30c990",
   "metadata": {
    "scrolled": true
   },
   "outputs": [
    {
     "data": {
      "image/png": "[encoded data removed]",
      "text/plain": [
       "<Figure size 1080x360 with 1 Axes>"
      ]
     },
     "metadata": {
      "needs_background": "light"
     },
     "output_type": "display_data"
    }
   ],
   "source": [
    "data.groupby(by=['language_preferred'])['time_spent_on_the_page'].mean().plot(x='language_preferred',y='time_spent_on_the_page', kind='bar',figsize=(15,5))\n",
    "plt.show()"
   ]
  },
  {
   "cell_type": "markdown",
   "id": "d1070e34",
   "metadata": {},
   "source": [
    "#### Observations from the numerical vs. categorical analysis:\n",
    "- On average, the control group spent less time than the treatment group.\n",
    "- On average, users spent more time on the new landing page than the old landing page.\n",
    "- On average, users that converted spent more time on the landing page than users that did not convert.\n",
    "- On average, users spent about the same time on the landing page regardless of language preference."
   ]
  },
  {
   "cell_type": "code",
   "execution_count": 21,
   "id": "2abab742",
   "metadata": {
    "scrolled": true
   },
   "outputs": [
    {
     "data": {
      "image/png": "[encoded data removed]",
      "text/plain": [
       "<Figure size 432x288 with 1 Axes>"
      ]
     },
     "metadata": {
      "needs_background": "light"
     },
     "output_type": "display_data"
    }
   ],
   "source": [
    "sns.barplot(data=data,x=\"group\",y=\"time_spent_on_the_page\",hue=\"landing_page\")\n",
    "plt.show()"
   ]
  },
  {
   "cell_type": "markdown",
   "id": "a130f333",
   "metadata": {},
   "source": [
    "This shows that the group and landing_page columns are effectively conveying the same information. Those in the control group are only viewing the old landing page, while those in the treatment group are only viewing the new landing page. This is good reassurance that we did not do incorrect testing. I will generally treat these as the same column going forward."
   ]
  },
  {
   "cell_type": "code",
   "execution_count": 22,
   "id": "5b90abd6",
   "metadata": {
    "scrolled": true
   },
   "outputs": [
    {
     "data": {
      "image/png": "[encoded data removed]",
      "text/plain": [
       "<Figure size 432x288 with 1 Axes>"
      ]
     },
     "metadata": {
      "needs_background": "light"
     },
     "output_type": "display_data"
    }
   ],
   "source": [
    "sns.countplot(data=data,x=\"group\",order=data.group.value_counts().index,hue=\"converted\")\n",
    "plt.show()"
   ]
  },
  {
   "cell_type": "code",
   "execution_count": 23,
   "id": "2b8dcbfa",
   "metadata": {
    "scrolled": true
   },
   "outputs": [
    {
     "data": {
      "image/png": "[encoded data removed]",
      "text/plain": [
       "<Figure size 432x288 with 1 Axes>"
      ]
     },
     "metadata": {
      "needs_background": "light"
     },
     "output_type": "display_data"
    }
   ],
   "source": [
    "sns.countplot(data=data,x=\"group\",order=data.group.value_counts().index,hue=\"language_preferred\")\n",
    "plt.show()"
   ]
  },
  {
   "cell_type": "code",
   "execution_count": 24,
   "id": "a99ccea9",
   "metadata": {},
   "outputs": [
    {
     "data": {
      "image/png": "[encoded data removed]",
      "text/plain": [
       "<Figure size 432x288 with 1 Axes>"
      ]
     },
     "metadata": {
      "needs_background": "light"
     },
     "output_type": "display_data"
    }
   ],
   "source": [
    "sns.countplot(data=data,x=\"converted\",order=data.converted.value_counts().index,hue=\"language_preferred\")\n",
    "plt.show()"
   ]
  },
  {
   "cell_type": "markdown",
   "id": "a956d481",
   "metadata": {},
   "source": [
    "#### Observations from the categorical vs. categorial analysis:\n",
    "- There appears to be more users converted from the treatment group compared to the control group.\n",
    "- There appears to be no relationship between which group a user is in and what the user's preferred language was.\n",
    "- Users with a preferred language of English were more likely to convert.\n",
    "- Users with a preferred language of French were less likely to convert.\n",
    "- Users with a preferred language of Spanish were slightly more likely to convert."
   ]
  },
  {
   "cell_type": "markdown",
   "id": "27906576",
   "metadata": {
    "id": "27906576"
   },
   "source": [
    "## 1. Do the users spend more time on the new landing page than the existing landing page?"
   ]
  },
  {
   "cell_type": "markdown",
   "id": "e5fdf0c8",
   "metadata": {
    "id": "e5fdf0c8"
   },
   "source": [
    "### Perform Visual Analysis"
   ]
  },
  {
   "cell_type": "code",
   "execution_count": 25,
   "id": "6eZJa41eg21n",
   "metadata": {
    "id": "6eZJa41eg21n",
    "scrolled": true
   },
   "outputs": [
    {
     "data": {
      "image/png": "[encoded data removed]",
      "text/plain": [
       "<Figure size 864x504 with 2 Axes>"
      ]
     },
     "metadata": {
      "needs_background": "light"
     },
     "output_type": "display_data"
    }
   ],
   "source": [
    "histogram_boxplot(data,\"time_spent_on_the_page\")"
   ]
  },
  {
   "cell_type": "markdown",
   "id": "c72709fb",
   "metadata": {},
   "source": [
    "The full data set follows about a normal distribution.\n",
    "\n",
    "Let's see if the data sets for just the old landing page and just the new landing page follow the same behavior."
   ]
  },
  {
   "cell_type": "code",
   "execution_count": 26,
   "id": "967601f0",
   "metadata": {
    "scrolled": true
   },
   "outputs": [
    {
     "data": {
      "image/png": "[encoded data removed]",
      "text/plain": [
       "<Figure size 864x504 with 2 Axes>"
      ]
     },
     "metadata": {
      "needs_background": "light"
     },
     "output_type": "display_data"
    }
   ],
   "source": [
    "histogram_boxplot(data[data[\"landing_page\"]==\"old\"],\"time_spent_on_the_page\")"
   ]
  },
  {
   "cell_type": "code",
   "execution_count": 27,
   "id": "f46e769d",
   "metadata": {
    "scrolled": true
   },
   "outputs": [
    {
     "data": {
      "image/png": "[encoded data removed]",
      "text/plain": [
       "<Figure size 864x504 with 2 Axes>"
      ]
     },
     "metadata": {
      "needs_background": "light"
     },
     "output_type": "display_data"
    }
   ],
   "source": [
    "histogram_boxplot(data[data[\"landing_page\"]==\"new\"],\"time_spent_on_the_page\")"
   ]
  },
  {
   "cell_type": "markdown",
   "id": "62d890ae",
   "metadata": {},
   "source": [
    "Confirmed that both generally follow a normal distribution!"
   ]
  },
  {
   "cell_type": "markdown",
   "id": "bb6c830a",
   "metadata": {},
   "source": [
    "Let $\\mu_N$ be the mean time spent on the new landing page.\n",
    "Let $\\mu_O$ be the mean time spent on the old landing page.\n",
    "\n",
    "The null hypothesis is that the mean time spent on the new landing page is equal to the time spent on the old landing page. This is stated as \n",
    "\n",
    ">$H_0$: $\\mu_N$ = $\\mu_O$\n",
    "\n",
    "The alternative hypothesis is that the mean time spent on the new landing page is longer than the time spent on the old landing page. This is stated as\n",
    "\n",
    ">$H_a$: $\\mu_N$ > $\\mu_O$"
   ]
  },
  {
   "cell_type": "markdown",
   "id": "96864067",
   "metadata": {},
   "source": [
    "We have 2 sample means that we want to compare, and the standard deviations are unknown. We will also assume that the samples are continuous and from normally distributed and independent populations. The standard deviation is unknown.\n",
    "\n",
    "So, a 2-sample ind. t-test is appropriate."
   ]
  },
  {
   "cell_type": "markdown",
   "id": "5d406785",
   "metadata": {},
   "source": [
    "We will assume a significance level of 0.05."
   ]
  },
  {
   "cell_type": "code",
   "execution_count": 28,
   "id": "f5a59495",
   "metadata": {
    "id": "f5a59495"
   },
   "outputs": [],
   "source": [
    "# pull the time data from new landing page and old landing page into variables\n",
    "new_time=data[data[\"landing_page\"]==\"new\"][\"time_spent_on_the_page\"]\n",
    "old_time=data[data[\"landing_page\"]==\"old\"][\"time_spent_on_the_page\"]"
   ]
  },
  {
   "cell_type": "code",
   "execution_count": 29,
   "id": "fac8594a",
   "metadata": {
    "id": "fac8594a"
   },
   "outputs": [
    {
     "name": "stdout",
     "output_type": "stream",
     "text": [
      "The p-value is 0.0001316123528095005\n"
     ]
    }
   ],
   "source": [
    "from scipy.stats import ttest_ind\n",
    "test_stat, p_value = ttest_ind(new_time,old_time,equal_var = True, alternative = \"greater\")\n",
    "print('The p-value is ' + str(p_value))"
   ]
  },
  {
   "cell_type": "markdown",
   "id": "67aa0d0c",
   "metadata": {
    "id": "7be47289"
   },
   "source": [
    "The p-value of 0.00013 is much less than the level of significance value of 0.05."
   ]
  },
  {
   "cell_type": "markdown",
   "id": "188204cf",
   "metadata": {},
   "source": [
    "The p-value is much less than the level of signifance value, so we reject the null hypothesis. This means that the mean time spent on the new landing page is longer than the time spent on the old landing page."
   ]
  },
  {
   "cell_type": "markdown",
   "id": "353e9d24",
   "metadata": {
    "id": "353e9d24"
   },
   "source": [
    "## 2. Is the conversion rate (the proportion of users who visit the landing page and get converted) for the new page greater than the conversion rate for the old page? "
   ]
  },
  {
   "cell_type": "markdown",
   "id": "00375ac5",
   "metadata": {},
   "source": [
    "Repasting a visual from an above section (but using the landing_page variable instead of the group variable) that showed at a glance that more users converted from the new landing page compared to the old landing page."
   ]
  },
  {
   "cell_type": "code",
   "execution_count": 30,
   "id": "76a84db0",
   "metadata": {},
   "outputs": [
    {
     "data": {
      "image/png": "[encoded data removed]",
      "text/plain": [
       "<Figure size 432x288 with 1 Axes>"
      ]
     },
     "metadata": {
      "needs_background": "light"
     },
     "output_type": "display_data"
    }
   ],
   "source": [
    "sns.countplot(data=data,x=\"landing_page\",order=data.landing_page.value_counts().index,hue=\"converted\")\n",
    "plt.show()"
   ]
  },
  {
   "cell_type": "markdown",
   "id": "d10962a5",
   "metadata": {
    "id": "b7f52898"
   },
   "source": [
    "Let $p_N$ be the proportion of users converted from the new landing page.\n",
    "Let $p_O$ be the proportion of users converted from the old landing page.\n",
    "\n",
    "The null hypothesis is that the proportion of users converted from new landing page is equal to the proportion of users converted from the old landing page. This is stated as \n",
    "\n",
    ">$H_0$: $p_N$ = $p_O$\n",
    "\n",
    "The alternative hypothesis is that the proportion of users converted from the new landing page is greater than proportion of users converted from the old landing page. This is stated as\n",
    "\n",
    ">$H_a$: $p_N$ > $p_O$"
   ]
  },
  {
   "cell_type": "markdown",
   "id": "aad52e36",
   "metadata": {},
   "source": [
    "We are testing for equality of two population proportions. Also, we can assume that the the populations are independent and binomially distributed based on the visual analysis from Question#2. Also, np and n(1-p) are greater than or equal to 10 (see below). So, we will use a two proportions z-test.\n",
    "\n"
   ]
  },
  {
   "cell_type": "code",
   "execution_count": 31,
   "id": "6eb28149",
   "metadata": {},
   "outputs": [
    {
     "name": "stdout",
     "output_type": "stream",
     "text": [
      "The n value for the new landing page is 50\n",
      "The n value for the old landing page is 50\n",
      "The numerator proportion value for the new landing page is 33\n",
      "The numerator proportion value for the old landing page is 21\n",
      "The np value for the new landing page is 33.0\n",
      "The n(1-p) value for the new landing page is 17.0\n",
      "The np value for the old landing page is 21.0\n",
      "The n(1-p) value for the old landing page is 29.0\n"
     ]
    }
   ],
   "source": [
    "n_n = data[data[\"landing_page\"]==\"new\"].shape[0]\n",
    "print(\"The n value for the new landing page is \" + str(n_n))\n",
    "n_o = data[data[\"landing_page\"]==\"old\"].shape[0]\n",
    "print(\"The n value for the old landing page is \" + str(n_o))\n",
    "numer_n = data[(data[\"landing_page\"]==\"new\") & (data[\"converted\"]==\"yes\")].shape[0]\n",
    "print(\"The numerator proportion value for the new landing page is \" + str(numer_n))\n",
    "numer_o = data[(data[\"landing_page\"]==\"old\") & (data[\"converted\"]==\"yes\")].shape[0]\n",
    "print(\"The numerator proportion value for the old landing page is \" + str(numer_o))\n",
    "print(\"The np value for the new landing page is \" + str(n_n*numer_n/n_n))\n",
    "print(\"The n(1-p) value for the new landing page is \" + str(n_n*(n_n-numer_n)/n_n))\n",
    "print(\"The np value for the old landing page is \" + str(n_o*numer_o/n_o))\n",
    "print(\"The n(1-p) value for the old landing page is \" + str(n_o*(n_o-numer_o)/n_o))"
   ]
  },
  {
   "cell_type": "markdown",
   "id": "0eb1d61c",
   "metadata": {},
   "source": [
    ">$np_n = 50\\cdot \\frac{33}{50} =33 \\geq 10\\\\\n",
    "n(1-p_n) = 50 \\cdot \\frac{50-33}{50} =17 \\geq 10 \\\\\n",
    "np_o = 50\\cdot \\frac{21}{50} =21 \\geq 10\\\\\n",
    "n(1-p_o) = 50 \\cdot \\frac{50-21}{50} =29 \\geq 10 $"
   ]
  },
  {
   "cell_type": "markdown",
   "id": "9743a6d7",
   "metadata": {},
   "source": [
    "We will assume a level of significance value of 0.05."
   ]
  },
  {
   "cell_type": "code",
   "execution_count": 32,
   "id": "904fbcfe",
   "metadata": {},
   "outputs": [
    {
     "name": "stdout",
     "output_type": "stream",
     "text": [
      "The p-value is 0.016052616408112556\n"
     ]
    }
   ],
   "source": [
    "from statsmodels.stats.proportion import proportions_ztest\n",
    "proportion_sizes = np.array([33,21])\n",
    "sample_sizes = np.array([50,50])\n",
    "test_stat, p_value = proportions_ztest(proportion_sizes,sample_sizes)\n",
    "print('The p-value is ' + str(p_value))"
   ]
  },
  {
   "cell_type": "markdown",
   "id": "a8504084",
   "metadata": {},
   "source": [
    "The p-value is 0.016, which is lower than the level of significance value of 0.05, so we reject the null hypothesis. This means that the proportion of users converted from the new landing page is greater than proportion of users converted from the old landing page. "
   ]
  },
  {
   "cell_type": "markdown",
   "id": "d49bfa2d",
   "metadata": {
    "id": "d49bfa2d"
   },
   "source": [
    "## 3. Is the conversion and preferred language are independent or related?"
   ]
  },
  {
   "cell_type": "markdown",
   "id": "45e0b8e2",
   "metadata": {},
   "source": [
    "Repasting a visual from an above section that showed at a glance that preferred language has an effect on conversion."
   ]
  },
  {
   "cell_type": "code",
   "execution_count": 33,
   "id": "78ffed67",
   "metadata": {},
   "outputs": [
    {
     "data": {
      "image/png": "[encoded data removed]",
      "text/plain": [
       "<Figure size 432x288 with 1 Axes>"
      ]
     },
     "metadata": {
      "needs_background": "light"
     },
     "output_type": "display_data"
    }
   ],
   "source": [
    "sns.countplot(data=data,x=\"converted\",order=data.converted.value_counts().index,hue=\"language_preferred\")\n",
    "plt.show()"
   ]
  },
  {
   "cell_type": "markdown",
   "id": "e7ff779d",
   "metadata": {
    "id": "b0e63f17"
   },
   "source": [
    "We will test the null hypothesis\n",
    "\n",
    ">$H_0$: Conversion is independent of preferred language\n",
    "\n",
    "against the alternative hypothesis\n",
    "\n",
    ">$H_a$: Conversion depends on preferred language\n",
    "\n",
    "\n"
   ]
  },
  {
   "cell_type": "markdown",
   "id": "a4631984",
   "metadata": {},
   "source": [
    "The sample has categorical values, the expected value of the number of sample observations in each level of the variable is at least 5, and there was random sampling from the population. Therefore, the Chi-Square Test for Independence is the appropriate test to use."
   ]
  },
  {
   "cell_type": "markdown",
   "id": "3e11433c",
   "metadata": {},
   "source": [
    "We will assume a level of significance value of 0.05."
   ]
  },
  {
   "cell_type": "markdown",
   "id": "6ef6526b",
   "metadata": {},
   "source": [
    "In order to run against this test, we have to restructure the dataframe such that we have \"Preferred Language\" in one column and \"Converted - Yes\" and \"Converted - No\" in subsequent columns."
   ]
  },
  {
   "cell_type": "code",
   "execution_count": 34,
   "id": "7bbf9b63",
   "metadata": {
    "scrolled": false
   },
   "outputs": [
    {
     "name": "stderr",
     "output_type": "stream",
     "text": [
      "C:\\Users\\prani\\AppData\\Local\\Temp/ipykernel_29204/3407250965.py:5: SettingWithCopyWarning: \n",
      "A value is trying to be set on a copy of a slice from a DataFrame.\n",
      "Try using .loc[row_indexer,col_indexer] = value instead\n",
      "\n",
      "See the caveats in the documentation: https://pandas.pydata.org/pandas-docs/stable/user_guide/indexing.html#returning-a-view-versus-a-copy\n",
      "  lang_conv[\"Converted - Yes\"] = np.where(lang_conv[\"converted\"]==\"yes\",1,0)\n",
      "C:\\Users\\prani\\AppData\\Local\\Temp/ipykernel_29204/3407250965.py:6: SettingWithCopyWarning: \n",
      "A value is trying to be set on a copy of a slice from a DataFrame.\n",
      "Try using .loc[row_indexer,col_indexer] = value instead\n",
      "\n",
      "See the caveats in the documentation: https://pandas.pydata.org/pandas-docs/stable/user_guide/indexing.html#returning-a-view-versus-a-copy\n",
      "  lang_conv[\"Converted - No\"] = np.where(lang_conv[\"converted\"]==\"no\",1,0)\n",
      "C:\\Users\\prani\\anaconda3\\lib\\site-packages\\pandas\\core\\frame.py:4906: SettingWithCopyWarning: \n",
      "A value is trying to be set on a copy of a slice from a DataFrame\n",
      "\n",
      "See the caveats in the documentation: https://pandas.pydata.org/pandas-docs/stable/user_guide/indexing.html#returning-a-view-versus-a-copy\n",
      "  return super().drop(\n"
     ]
    }
   ],
   "source": [
    "# only pull the language_preferred and converted columns\n",
    "lang_conv = data[[\"language_preferred\",\"converted\"]]\n",
    "\n",
    "# create new columns for Converted - Yes and Converted - No\n",
    "lang_conv[\"Converted - Yes\"] = np.where(lang_conv[\"converted\"]==\"yes\",1,0)\n",
    "lang_conv[\"Converted - No\"] = np.where(lang_conv[\"converted\"]==\"no\",1,0)\n",
    "\n",
    "# drop the original converted column\n",
    "lang_conv.drop(\"converted\",axis=1,inplace=True)"
   ]
  },
  {
   "cell_type": "code",
   "execution_count": 35,
   "id": "abfd3b3e",
   "metadata": {},
   "outputs": [
    {
     "name": "stderr",
     "output_type": "stream",
     "text": [
      "C:\\Users\\prani\\AppData\\Local\\Temp/ipykernel_29204/2271616598.py:2: FutureWarning: Indexing with multiple keys (implicitly converted to a tuple of keys) will be deprecated, use a list instead.\n",
      "  pref_lang_conv = lang_conv.groupby([\"language_preferred\"])[\"language_preferred\",\"Converted - Yes\",\"Converted - No\"].sum()\n"
     ]
    }
   ],
   "source": [
    "# update dataframe format to group by preferred language\n",
    "pref_lang_conv = lang_conv.groupby([\"language_preferred\"])[\"language_preferred\",\"Converted - Yes\",\"Converted - No\"].sum()\n",
    "pref_lang_conv.reset_index(inplace=True)"
   ]
  },
  {
   "cell_type": "code",
   "execution_count": 36,
   "id": "157489f3",
   "metadata": {
    "scrolled": true
   },
   "outputs": [
    {
     "name": "stdout",
     "output_type": "stream",
     "text": [
      "The p-value is 0.2129888748754345\n"
     ]
    }
   ],
   "source": [
    "from scipy.stats import chi2_contingency\n",
    "chi, p_value, dof, expected = chi2_contingency(pref_lang_conv.drop(\"language_preferred\",axis=1))\n",
    "print('The p-value is', p_value)"
   ]
  },
  {
   "cell_type": "markdown",
   "id": "fe4050ec",
   "metadata": {},
   "source": [
    "The p-value of 0.21 is higher than the level of significance value of 0.05. Therefore, we fail to reject the null hypothesis. This means that the conversion is independent of preferred language."
   ]
  },
  {
   "cell_type": "markdown",
   "id": "8d585a90",
   "metadata": {
    "id": "8d585a90"
   },
   "source": [
    "## 4. Is the time spent on the new page same for the different language users?"
   ]
  },
  {
   "cell_type": "markdown",
   "id": "d9ea9980",
   "metadata": {},
   "source": [
    "We will make a new box plot that compares preferred language to time spent on the page."
   ]
  },
  {
   "cell_type": "code",
   "execution_count": 37,
   "id": "b422f395",
   "metadata": {
    "id": "b422f395",
    "scrolled": false
   },
   "outputs": [
    {
     "data": {
      "text/plain": [
       "<AxesSubplot:xlabel='language_preferred', ylabel='time_spent_on_the_page'>"
      ]
     },
     "execution_count": 37,
     "metadata": {},
     "output_type": "execute_result"
    },
    {
     "data": {
      "image/png": "[encoded data removed]",
      "text/plain": [
       "<Figure size 432x288 with 1 Axes>"
      ]
     },
     "metadata": {
      "needs_background": "light"
     },
     "output_type": "display_data"
    }
   ],
   "source": [
    "sns.boxplot(x=\"language_preferred\",y=\"time_spent_on_the_page\",data=data,hue=\"language_preferred\")"
   ]
  },
  {
   "cell_type": "markdown",
   "id": "ac1e238c",
   "metadata": {},
   "source": [
    "At a glance, the time spent on the page appears to be around the same across all preferred languages."
   ]
  },
  {
   "cell_type": "markdown",
   "id": "036cc5b4",
   "metadata": {},
   "source": [
    "The samples are independent simple random samples. However, if we want to use the one-way ANOVA test, we must confirm if the populations are normally distributed (Shapiro-Wilk's test) and if it has equality of variance (Levene's test)."
   ]
  },
  {
   "cell_type": "markdown",
   "id": "8dfd14a9",
   "metadata": {},
   "source": [
    "### Shapiro-Wilk’s test\n",
    "\n",
    "We will test the null hypothesis\n",
    "\n",
    ">$H_0:$ Time spent on the page follows a normal distribution\n",
    "\n",
    "against the alternative hypothesis\n",
    "\n",
    ">$H_a:$ Time spent on the page does not follow a normal distribution"
   ]
  },
  {
   "cell_type": "code",
   "execution_count": 38,
   "id": "debcf1cb",
   "metadata": {},
   "outputs": [
    {
     "name": "stdout",
     "output_type": "stream",
     "text": [
      "The p-value is 0.5643684267997742\n"
     ]
    }
   ],
   "source": [
    "from scipy import stats\n",
    "w, p_value = stats.shapiro(data[\"time_spent_on_the_page\"])\n",
    "print('The p-value is', p_value)"
   ]
  },
  {
   "cell_type": "markdown",
   "id": "82ecabed",
   "metadata": {},
   "source": [
    "Because the p-value is large, we fail to reject the null hypothesis. This proves that the populations are normally distributed."
   ]
  },
  {
   "cell_type": "markdown",
   "id": "6dc6bc07",
   "metadata": {},
   "source": [
    "### Levene’s test\n",
    "\n",
    "We will test the null hypothesis\n",
    "\n",
    ">$H_0$: All the population variances are equal\n",
    "\n",
    "against the alternative hypothesis\n",
    "\n",
    ">$H_a$: At least one variance is different from the rest"
   ]
  },
  {
   "cell_type": "code",
   "execution_count": 39,
   "id": "e742d1b7",
   "metadata": {},
   "outputs": [
    {
     "name": "stdout",
     "output_type": "stream",
     "text": [
      "The p-value is 0.06515086840327314\n"
     ]
    }
   ],
   "source": [
    "from scipy.stats import levene\n",
    "statistic, p_value = levene(data[\"time_spent_on_the_page\"][data[\"language_preferred\"]==\"English\"],\n",
    "                           data[\"time_spent_on_the_page\"][data[\"language_preferred\"]==\"Spanish\"],\n",
    "                           data[\"time_spent_on_the_page\"][data[\"language_preferred\"]==\"French\"])\n",
    "print('The p-value is', p_value)"
   ]
  },
  {
   "cell_type": "markdown",
   "id": "b33e54ab",
   "metadata": {},
   "source": [
    "Because the p-value is larger than a level of signifance value of 0.05, we fail to reject the null hypothesis. This proves that all the population variances are equal."
   ]
  },
  {
   "cell_type": "markdown",
   "id": "2f77abb3",
   "metadata": {},
   "source": [
    "Now that we proved that the populations are normally distributed and the variances are equal, we can do the one-way ANOVA test - specifically the Tukey HSD test."
   ]
  },
  {
   "cell_type": "markdown",
   "id": "a72a6987",
   "metadata": {},
   "source": [
    "### Multiple Comparison Test (Tukey HSD)\n",
    "\n",
    "Let $\\mu_S$ be the mean of time spent on the page by users whose preferred language is Spanish.\n",
    "Let $\\mu_E$ be the mean of time spent on the page by users whose preferred language is English.\n",
    "Let $\\mu_F$ be the mean of time spent on the page by users whose preferred language is French.\n",
    "\n",
    "We will test the null hypothesis\n",
    "\n",
    ">$H_0: \\mu_S = \\mu_E = \\mu_F$\n",
    "\n",
    "against the alternative hypothesis\n",
    "\n",
    ">$H_a:$ At least one time spent on the page is different from the rest."
   ]
  },
  {
   "cell_type": "markdown",
   "id": "824550fd",
   "metadata": {},
   "source": [
    "We will assume a level of significance value of 0.05."
   ]
  },
  {
   "cell_type": "code",
   "execution_count": 40,
   "id": "3df05ace",
   "metadata": {
    "scrolled": true
   },
   "outputs": [
    {
     "name": "stdout",
     "output_type": "stream",
     "text": [
      " Multiple Comparison of Means - Tukey HSD, FWER=0.05 \n",
      "=====================================================\n",
      " group1  group2 meandiff p-adj   lower  upper  reject\n",
      "-----------------------------------------------------\n",
      "English  French  -0.3058 0.8482 -1.7123 1.1006  False\n",
      "English Spanish  -0.2273    0.9 -1.6338 1.1792  False\n",
      " French Spanish   0.0785    0.9 -1.3065 1.4635  False\n",
      "-----------------------------------------------------\n"
     ]
    }
   ],
   "source": [
    "from statsmodels.stats.multicomp import pairwise_tukeyhsd\n",
    "m_comp = pairwise_tukeyhsd(endog = data['time_spent_on_the_page'], groups = data['language_preferred'], alpha = 0.05)\n",
    "print(m_comp)"
   ]
  },
  {
   "cell_type": "markdown",
   "id": "8765a262",
   "metadata": {},
   "source": [
    "As the p-values (from the p-adj column) are all above the level of significance value of 0.05, we fail to reject the null hypothesis. Thus, we can say that the mean time spent on the page is similar through users of all preferred languages."
   ]
  },
  {
   "cell_type": "markdown",
   "id": "3acbc947",
   "metadata": {
    "id": "3acbc947"
   },
   "source": [
    "## Conclusion and Business Recommendations"
   ]
  },
  {
   "cell_type": "markdown",
   "id": "4fb7da6f",
   "metadata": {},
   "source": [
    "Overall, the new feature is definitely successful. \n",
    "- The new feature must be selling the business well because the proportion of users converted from the new landing page is greater than proportion of users converted from the old landing page. \n",
    "- In addition, users must be enjoying their experience on the new landing page because on average, users spend more time on the new landing pager compared to the old landing page.\n",
    "- The new feature is accessible to users of all backgrounds because the conversion percentage and mean time spent on the page is independent of the users' preferred language."
   ]
  }
 ],
 "metadata": {
  "colab": {
   "collapsed_sections": [],
   "name": "ENews_Express_Learner_Notebook[Full Code Version].ipynb",
   "provenance": []
  },
  "kernelspec": {
   "display_name": "Python 3 (ipykernel)",
   "language": "python",
   "name": "python3"
  },
  "language_info": {
   "codemirror_mode": {
    "name": "ipython",
    "version": 3
   },
   "file_extension": ".py",
   "mimetype": "text/x-python",
   "name": "python",
   "nbconvert_exporter": "python",
   "pygments_lexer": "ipython3",
   "version": "3.9.7"
  }
 },
 "nbformat": 4,
 "nbformat_minor": 5
}
